{
 "cells": [
  {
   "cell_type": "code",
   "execution_count": 30,
   "metadata": {},
   "outputs": [],
   "source": [
    "import pandas as pd\n",
    "import numpy as np\n",
    "import seaborn as sns\n",
    "import matplotlib.pyplot as plt\n",
    "import statsmodels.api as sm\n",
    "%matplotlib inline"
   ]
  },
  {
   "cell_type": "code",
   "execution_count": 31,
   "metadata": {},
   "outputs": [
    {
     "data": {
      "text/plain": [
       "(16441, 7)"
      ]
     },
     "execution_count": 31,
     "metadata": {},
     "output_type": "execute_result"
    }
   ],
   "source": [
    "#Read the dataset\n",
    "df = pd.read_csv('QuangNgaiStation.csv')\n",
    "df1 = df.copy(deep=True)\n",
    "df['datetime'] = pd.to_datetime(df['datetime'])\n",
    "df.shape"
   ]
  },
  {
   "cell_type": "code",
   "execution_count": 32,
   "metadata": {},
   "outputs": [
    {
     "data": {
      "text/html": [
       "<div>\n",
       "<style scoped>\n",
       "    .dataframe tbody tr th:only-of-type {\n",
       "        vertical-align: middle;\n",
       "    }\n",
       "\n",
       "    .dataframe tbody tr th {\n",
       "        vertical-align: top;\n",
       "    }\n",
       "\n",
       "    .dataframe thead th {\n",
       "        text-align: right;\n",
       "    }\n",
       "</style>\n",
       "<table border=\"1\" class=\"dataframe\">\n",
       "  <thead>\n",
       "    <tr style=\"text-align: right;\">\n",
       "      <th></th>\n",
       "      <th>datetime</th>\n",
       "      <th>station_name</th>\n",
       "      <th>rain_fall</th>\n",
       "      <th>temperature</th>\n",
       "      <th>humidity</th>\n",
       "      <th>wind_speed</th>\n",
       "      <th>wind_direction</th>\n",
       "    </tr>\n",
       "  </thead>\n",
       "  <tbody>\n",
       "    <tr>\n",
       "      <th>0</th>\n",
       "      <td>2016-01-15 00:00:00</td>\n",
       "      <td>QuangNgai</td>\n",
       "      <td>0.6</td>\n",
       "      <td>23.0</td>\n",
       "      <td>93</td>\n",
       "      <td>4</td>\n",
       "      <td>0</td>\n",
       "    </tr>\n",
       "    <tr>\n",
       "      <th>1</th>\n",
       "      <td>2016-01-15 01:00:00</td>\n",
       "      <td>QuangNgai</td>\n",
       "      <td>0.0</td>\n",
       "      <td>20.7</td>\n",
       "      <td>94</td>\n",
       "      <td>4</td>\n",
       "      <td>4</td>\n",
       "    </tr>\n",
       "    <tr>\n",
       "      <th>2</th>\n",
       "      <td>2016-01-15 02:00:00</td>\n",
       "      <td>QuangNgai</td>\n",
       "      <td>0.0</td>\n",
       "      <td>19.8</td>\n",
       "      <td>94</td>\n",
       "      <td>4</td>\n",
       "      <td>18</td>\n",
       "    </tr>\n",
       "    <tr>\n",
       "      <th>3</th>\n",
       "      <td>2016-01-15 03:00:00</td>\n",
       "      <td>QuangNgai</td>\n",
       "      <td>0.0</td>\n",
       "      <td>22.2</td>\n",
       "      <td>93</td>\n",
       "      <td>4</td>\n",
       "      <td>31</td>\n",
       "    </tr>\n",
       "    <tr>\n",
       "      <th>4</th>\n",
       "      <td>2016-01-15 04:00:00</td>\n",
       "      <td>QuangNgai</td>\n",
       "      <td>1.0</td>\n",
       "      <td>23.2</td>\n",
       "      <td>94</td>\n",
       "      <td>4</td>\n",
       "      <td>44</td>\n",
       "    </tr>\n",
       "  </tbody>\n",
       "</table>\n",
       "</div>"
      ],
      "text/plain": [
       "             datetime station_name  rain_fall  temperature  humidity  \\\n",
       "0 2016-01-15 00:00:00    QuangNgai        0.6         23.0        93   \n",
       "1 2016-01-15 01:00:00    QuangNgai        0.0         20.7        94   \n",
       "2 2016-01-15 02:00:00    QuangNgai        0.0         19.8        94   \n",
       "3 2016-01-15 03:00:00    QuangNgai        0.0         22.2        93   \n",
       "4 2016-01-15 04:00:00    QuangNgai        1.0         23.2        94   \n",
       "\n",
       "   wind_speed  wind_direction  \n",
       "0           4               0  \n",
       "1           4               4  \n",
       "2           4              18  \n",
       "3           4              31  \n",
       "4           4              44  "
      ]
     },
     "execution_count": 32,
     "metadata": {},
     "output_type": "execute_result"
    }
   ],
   "source": [
    "df.head()"
   ]
  },
  {
   "cell_type": "code",
   "execution_count": 33,
   "metadata": {},
   "outputs": [
    {
     "name": "stdout",
     "output_type": "stream",
     "text": [
      "<class 'pandas.core.frame.DataFrame'>\n",
      "RangeIndex: 16441 entries, 0 to 16440\n",
      "Data columns (total 7 columns):\n",
      " #   Column          Non-Null Count  Dtype         \n",
      "---  ------          --------------  -----         \n",
      " 0   datetime        16441 non-null  datetime64[ns]\n",
      " 1   station_name    16441 non-null  object        \n",
      " 2   rain_fall       16067 non-null  float64       \n",
      " 3   temperature     16441 non-null  float64       \n",
      " 4   humidity        16441 non-null  int64         \n",
      " 5   wind_speed      16441 non-null  int64         \n",
      " 6   wind_direction  16441 non-null  int64         \n",
      "dtypes: datetime64[ns](1), float64(2), int64(3), object(1)\n",
      "memory usage: 899.2+ KB\n"
     ]
    }
   ],
   "source": [
    "df.info()"
   ]
  },
  {
   "cell_type": "code",
   "execution_count": 34,
   "metadata": {},
   "outputs": [
    {
     "data": {
      "text/plain": [
       "datetime            0\n",
       "station_name        0\n",
       "rain_fall         374\n",
       "temperature         0\n",
       "humidity            0\n",
       "wind_speed          0\n",
       "wind_direction      0\n",
       "dtype: int64"
      ]
     },
     "execution_count": 34,
     "metadata": {},
     "output_type": "execute_result"
    }
   ],
   "source": [
    "df.isnull().sum()"
   ]
  },
  {
   "cell_type": "code",
   "execution_count": 35,
   "metadata": {},
   "outputs": [
    {
     "data": {
      "text/html": [
       "<div>\n",
       "<style scoped>\n",
       "    .dataframe tbody tr th:only-of-type {\n",
       "        vertical-align: middle;\n",
       "    }\n",
       "\n",
       "    .dataframe tbody tr th {\n",
       "        vertical-align: top;\n",
       "    }\n",
       "\n",
       "    .dataframe thead th {\n",
       "        text-align: right;\n",
       "    }\n",
       "</style>\n",
       "<table border=\"1\" class=\"dataframe\">\n",
       "  <thead>\n",
       "    <tr style=\"text-align: right;\">\n",
       "      <th></th>\n",
       "      <th>datetime</th>\n",
       "      <th>rain_fall</th>\n",
       "      <th>temperature</th>\n",
       "      <th>humidity</th>\n",
       "      <th>wind_speed</th>\n",
       "      <th>wind_direction</th>\n",
       "    </tr>\n",
       "  </thead>\n",
       "  <tbody>\n",
       "    <tr>\n",
       "      <th>count</th>\n",
       "      <td>16441</td>\n",
       "      <td>16067.000000</td>\n",
       "      <td>16441.000000</td>\n",
       "      <td>16441.000000</td>\n",
       "      <td>16441.000000</td>\n",
       "      <td>16441.000000</td>\n",
       "    </tr>\n",
       "    <tr>\n",
       "      <th>mean</th>\n",
       "      <td>2016-12-22 12:00:00</td>\n",
       "      <td>2.447545</td>\n",
       "      <td>27.129141</td>\n",
       "      <td>88.151147</td>\n",
       "      <td>2.324068</td>\n",
       "      <td>185.938994</td>\n",
       "    </tr>\n",
       "    <tr>\n",
       "      <th>min</th>\n",
       "      <td>2016-01-15 00:00:00</td>\n",
       "      <td>0.000000</td>\n",
       "      <td>15.600000</td>\n",
       "      <td>47.000000</td>\n",
       "      <td>0.000000</td>\n",
       "      <td>0.000000</td>\n",
       "    </tr>\n",
       "    <tr>\n",
       "      <th>25%</th>\n",
       "      <td>2016-07-04 06:00:00</td>\n",
       "      <td>0.000000</td>\n",
       "      <td>24.500000</td>\n",
       "      <td>84.000000</td>\n",
       "      <td>1.000000</td>\n",
       "      <td>100.000000</td>\n",
       "    </tr>\n",
       "    <tr>\n",
       "      <th>50%</th>\n",
       "      <td>2016-12-22 12:00:00</td>\n",
       "      <td>0.000000</td>\n",
       "      <td>26.800000</td>\n",
       "      <td>92.000000</td>\n",
       "      <td>2.000000</td>\n",
       "      <td>197.000000</td>\n",
       "    </tr>\n",
       "    <tr>\n",
       "      <th>75%</th>\n",
       "      <td>2017-06-11 18:00:00</td>\n",
       "      <td>0.400000</td>\n",
       "      <td>29.600000</td>\n",
       "      <td>95.000000</td>\n",
       "      <td>3.000000</td>\n",
       "      <td>295.000000</td>\n",
       "    </tr>\n",
       "    <tr>\n",
       "      <th>max</th>\n",
       "      <td>2017-11-30 00:00:00</td>\n",
       "      <td>371.000000</td>\n",
       "      <td>39.700000</td>\n",
       "      <td>99.000000</td>\n",
       "      <td>13.000000</td>\n",
       "      <td>360.000000</td>\n",
       "    </tr>\n",
       "    <tr>\n",
       "      <th>std</th>\n",
       "      <td>NaN</td>\n",
       "      <td>9.653942</td>\n",
       "      <td>4.001874</td>\n",
       "      <td>8.816331</td>\n",
       "      <td>1.901871</td>\n",
       "      <td>110.713426</td>\n",
       "    </tr>\n",
       "  </tbody>\n",
       "</table>\n",
       "</div>"
      ],
      "text/plain": [
       "                  datetime     rain_fall   temperature      humidity  \\\n",
       "count                16441  16067.000000  16441.000000  16441.000000   \n",
       "mean   2016-12-22 12:00:00      2.447545     27.129141     88.151147   \n",
       "min    2016-01-15 00:00:00      0.000000     15.600000     47.000000   \n",
       "25%    2016-07-04 06:00:00      0.000000     24.500000     84.000000   \n",
       "50%    2016-12-22 12:00:00      0.000000     26.800000     92.000000   \n",
       "75%    2017-06-11 18:00:00      0.400000     29.600000     95.000000   \n",
       "max    2017-11-30 00:00:00    371.000000     39.700000     99.000000   \n",
       "std                    NaN      9.653942      4.001874      8.816331   \n",
       "\n",
       "         wind_speed  wind_direction  \n",
       "count  16441.000000    16441.000000  \n",
       "mean       2.324068      185.938994  \n",
       "min        0.000000        0.000000  \n",
       "25%        1.000000      100.000000  \n",
       "50%        2.000000      197.000000  \n",
       "75%        3.000000      295.000000  \n",
       "max       13.000000      360.000000  \n",
       "std        1.901871      110.713426  "
      ]
     },
     "execution_count": 35,
     "metadata": {},
     "output_type": "execute_result"
    }
   ],
   "source": [
    "df.describe()"
   ]
  },
  {
   "cell_type": "code",
   "execution_count": 36,
   "metadata": {},
   "outputs": [
    {
     "name": "stdout",
     "output_type": "stream",
     "text": [
      "Df shape: (16441, 6)\n"
     ]
    }
   ],
   "source": [
    "#Setting Date Column as an index\n",
    "df = df.set_index('datetime')\n",
    "print(\"Df shape:\",df.shape)"
   ]
  },
  {
   "cell_type": "code",
   "execution_count": 37,
   "metadata": {},
   "outputs": [
    {
     "data": {
      "image/png": "[encoded data removed]",
      "text/plain": [
       "<Figure size 1400x600 with 1 Axes>"
      ]
     },
     "metadata": {},
     "output_type": "display_data"
    }
   ],
   "source": [
    "plt.figure(figsize = (14,6))\n",
    "df.rain_fall.plot(kind =\"line\",style = \".\")\n",
    "plt.title(\"Rain fall distribution\")\n",
    "plt.show()"
   ]
  }
 ],
 "metadata": {
  "kernelspec": {
   "display_name": "Python 3",
   "language": "python",
   "name": "python3"
  },
  "language_info": {
   "codemirror_mode": {
    "name": "ipython",
    "version": 3
   },
   "file_extension": ".py",
   "mimetype": "text/x-python",
   "name": "python",
   "nbconvert_exporter": "python",
   "pygments_lexer": "ipython3",
   "version": "3.11.5"
  }
 },
 "nbformat": 4,
 "nbformat_minor": 2
}
